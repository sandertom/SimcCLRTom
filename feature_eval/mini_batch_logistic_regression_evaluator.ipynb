{
 "cells": [
  {
   "cell_type": "markdown",
   "metadata": {},
   "source": [
    "## This notebook is a remake of the original for the particular task of taking only the first 100 examples as labeled. We use all the training for self supervision using simCLR. Then, we regularly train our classifier and get arout 37% accuracy on test, which is better than trainint from scratch (around 20%), but not as good as using pretrained networks on Imagenet."
   ]
  },
  {
   "cell_type": "code",
   "execution_count": 1,
   "metadata": {
    "id": "YUemQib7ZE4D"
   },
   "outputs": [],
   "source": [
    "import torch\n",
    "import sys\n",
    "import numpy as np\n",
    "import os\n",
    "import yaml\n",
    "import matplotlib.pyplot as plt\n",
    "import torchvision"
   ]
  },
  {
   "cell_type": "code",
   "execution_count": 2,
   "metadata": {
    "colab": {
     "base_uri": "https://localhost:8080/"
    },
    "id": "WSgRE1CcLqdS",
    "outputId": "48a2ae15-f672-495b-8d43-9a23b85fa3b8"
   },
   "outputs": [
    {
     "name": "stdout",
     "output_type": "stream",
     "text": [
      "Requirement already satisfied: gdown in /Data/jon/miniconda3/envs/simclr3/lib/python3.7/site-packages (4.4.0)\n",
      "Requirement already satisfied: requests[socks] in /Data/jon/miniconda3/envs/simclr3/lib/python3.7/site-packages (from gdown) (2.24.0)\n",
      "Requirement already satisfied: beautifulsoup4 in /Data/jon/miniconda3/envs/simclr3/lib/python3.7/site-packages (from gdown) (4.10.0)\n",
      "Requirement already satisfied: filelock in /Data/jon/miniconda3/envs/simclr3/lib/python3.7/site-packages (from gdown) (3.6.0)\n",
      "Requirement already satisfied: tqdm in /Data/jon/miniconda3/envs/simclr3/lib/python3.7/site-packages (from gdown) (4.50.2)\n",
      "Requirement already satisfied: six in /Data/jon/miniconda3/envs/simclr3/lib/python3.7/site-packages (from gdown) (1.15.0)\n",
      "Requirement already satisfied: urllib3!=1.25.0,!=1.25.1,<1.26,>=1.21.1 in /Data/jon/miniconda3/envs/simclr3/lib/python3.7/site-packages (from requests[socks]->gdown) (1.25.11)\n",
      "Requirement already satisfied: certifi>=2017.4.17 in /Data/jon/miniconda3/envs/simclr3/lib/python3.7/site-packages (from requests[socks]->gdown) (2021.10.8)\n",
      "Requirement already satisfied: chardet<4,>=3.0.2 in /Data/jon/miniconda3/envs/simclr3/lib/python3.7/site-packages (from requests[socks]->gdown) (3.0.4)\n",
      "Requirement already satisfied: idna<3,>=2.5 in /Data/jon/miniconda3/envs/simclr3/lib/python3.7/site-packages (from requests[socks]->gdown) (2.10)\n",
      "Requirement already satisfied: PySocks!=1.5.7,>=1.5.6; extra == \"socks\" in /Data/jon/miniconda3/envs/simclr3/lib/python3.7/site-packages (from requests[socks]->gdown) (1.7.1)\n",
      "Requirement already satisfied: soupsieve>1.2 in /Data/jon/miniconda3/envs/simclr3/lib/python3.7/site-packages (from beautifulsoup4->gdown) (2.3.1)\n"
     ]
    }
   ],
   "source": [
    "!pip install gdown"
   ]
  },
  {
   "cell_type": "code",
   "execution_count": 3,
   "metadata": {
    "id": "NOIJEui1ZziV"
   },
   "outputs": [],
   "source": [
    "def get_file_id_by_model(folder_name):\n",
    "  file_id = {'resnet18_100-epochs_stl10': '14_nH2FkyKbt61cieQDiSbBVNP8-gtwgF',\n",
    "             'resnet18_100-epochs_cifar10': '1lc2aoVtrAetGn0PnTkOyFzPCIucOJq7C',\n",
    "             'resnet50_50-epochs_stl10': '1ByTKAUsdm_X7tLcii6oAEl5qFRqRMZSu'}\n",
    "  return file_id.get(folder_name, \"Model not found.\")"
   ]
  },
  {
   "cell_type": "code",
   "execution_count": 4,
   "metadata": {
    "colab": {
     "base_uri": "https://localhost:8080/"
    },
    "id": "G7YMxsvEZMrX",
    "outputId": "59475430-69d2-45a2-b61b-ae755d5d6e88"
   },
   "outputs": [
    {
     "name": "stdout",
     "output_type": "stream",
     "text": [
      "resnet18_100-epochs_cifar10 1lc2aoVtrAetGn0PnTkOyFzPCIucOJq7C\n"
     ]
    }
   ],
   "source": [
    "folder_name = 'resnet18_100-epochs_cifar10'\n",
    "file_id = get_file_id_by_model(folder_name)\n",
    "print(folder_name, file_id)"
   ]
  },
  {
   "cell_type": "code",
   "execution_count": 5,
   "metadata": {
    "colab": {
     "base_uri": "https://localhost:8080/"
    },
    "id": "PWZ8fet_YoJm",
    "outputId": "fbaeb858-221b-4d1b-dd90-001a6e713b75"
   },
   "outputs": [
    {
     "name": "stderr",
     "output_type": "stream",
     "text": [
      "Downloading...\n",
      "From: https://drive.google.com/uc?id=1lc2aoVtrAetGn0PnTkOyFzPCIucOJq7C\n",
      "To: /users/eleves-a/2018/tom.sander/MVA/SimcCLRTom/SimcCLRTom/feature_eval/resnet18_100-epochs_cifar10.zip\n",
      "100%|██████████| 101M/101M [00:01<00:00, 56.9MB/s] \n"
     ]
    },
    {
     "name": "stdout",
     "output_type": "stream",
     "text": [
      "Archive:  resnet18_100-epochs_cifar10.zip\n",
      "  inflating: checkpoint_0100.pth.tar  \n",
      "  inflating: config.yml              \n",
      "  inflating: events.out.tfevents.1610901418.4cb2c837708d.2683796.0  \n",
      "  inflating: run.log                 \n",
      "checkpoint_0100.pth.tar\n",
      "config.yml\n",
      "events.out.tfevents.1610901418.4cb2c837708d.2683796.0\n",
      "mini_batch_logistic_regression_evaluator.ipynb\n",
      "resnet18_100-epochs_cifar10.zip\n",
      "run.log\n"
     ]
    }
   ],
   "source": [
    "# download and extract model files\n",
    "os.system('gdown https://drive.google.com/uc?id={}'.format(file_id))\n",
    "os.system('unzip {}'.format(folder_name))\n",
    "!ls"
   ]
  },
  {
   "cell_type": "code",
   "execution_count": 6,
   "metadata": {
    "id": "3_nypQVEv-hn"
   },
   "outputs": [],
   "source": [
    "from torch.utils.data import DataLoader\n",
    "import torchvision.transforms as transforms\n",
    "from torchvision import datasets"
   ]
  },
  {
   "cell_type": "code",
   "execution_count": 7,
   "metadata": {
    "colab": {
     "base_uri": "https://localhost:8080/"
    },
    "id": "lDfbL3w_Z0Od",
    "outputId": "7532966e-1c4a-4641-c928-4cda14c53389"
   },
   "outputs": [
    {
     "name": "stdout",
     "output_type": "stream",
     "text": [
      "Using device: cuda\n"
     ]
    }
   ],
   "source": [
    "device = 'cuda' if torch.cuda.is_available() else 'cpu'\n",
    "print(\"Using device:\", device)"
   ]
  },
  {
   "cell_type": "code",
   "execution_count": 17,
   "metadata": {
    "id": "BfIPl0G6_RrT"
   },
   "outputs": [],
   "source": [
    "def get_stl10_data_loaders(download, shuffle=False, batch_size=256):\n",
    "  train_dataset = datasets.STL10('./data', split='train', download=download,\n",
    "                                  transform=transforms.ToTensor())\n",
    "\n",
    "  train_loader = DataLoader(train_dataset, batch_size=batch_size,\n",
    "                            num_workers=0, drop_last=False, shuffle=shuffle)\n",
    "  \n",
    "  test_dataset = datasets.STL10('./data', split='test', download=download,\n",
    "                                  transform=transforms.ToTensor())\n",
    "\n",
    "  test_loader = DataLoader(test_dataset, batch_size=2*batch_size,\n",
    "                            num_workers=10, drop_last=False, shuffle=shuffle)\n",
    "  return train_loader, test_loader\n",
    "\n",
    "def get_cifar10_data_loaders(download, shuffle=False, batch_size=256):\n",
    "  train_dataset_ = datasets.CIFAR10('./data', train=True, download=download,\n",
    "                                  transform=transforms.ToTensor())\n",
    "  indices_train = torch.arange(0,100)\n",
    "  train_dataset = torch.utils.data.Subset(train_dataset_, indices_train)\n",
    "\n",
    "  train_loader = DataLoader(train_dataset, batch_size=batch_size,\n",
    "                            num_workers=0, drop_last=False, shuffle=shuffle)\n",
    "  \n",
    "  test_dataset = datasets.CIFAR10('./data', train=False, download=download,\n",
    "                                  transform=transforms.ToTensor())\n",
    "\n",
    "  test_loader = DataLoader(test_dataset, batch_size=2*batch_size,\n",
    "                            num_workers=10, drop_last=False, shuffle=shuffle)\n",
    "  return train_loader, test_loader"
   ]
  },
  {
   "cell_type": "code",
   "execution_count": 9,
   "metadata": {
    "id": "6N8lYkbmDTaK"
   },
   "outputs": [],
   "source": [
    "with open(os.path.join('./config.yml')) as file:\n",
    "  config = yaml.load(file, Loader=yaml.Loader)"
   ]
  },
  {
   "cell_type": "code",
   "execution_count": 10,
   "metadata": {
    "id": "a18lPD-tIle6"
   },
   "outputs": [],
   "source": [
    "if config.arch == 'resnet18':\n",
    "  model = torchvision.models.resnet18(pretrained=False, num_classes=10).to(device)\n",
    "elif config.arch == 'resnet50':\n",
    "  model = torchvision.models.resnet50(pretrained=False, num_classes=10).to(device)"
   ]
  },
  {
   "cell_type": "code",
   "execution_count": 12,
   "metadata": {
    "id": "4AIfgq41GuTT"
   },
   "outputs": [],
   "source": [
    "checkpoint = torch.load('checkpoint_0100.pth.tar', map_location=device)\n",
    "state_dict = checkpoint['state_dict']\n",
    "\n",
    "for k in list(state_dict.keys()):\n",
    "\n",
    "  if k.startswith('backbone.'):\n",
    "    if k.startswith('backbone') and not k.startswith('backbone.fc'):\n",
    "      # remove prefix\n",
    "      state_dict[k[len(\"backbone.\"):]] = state_dict[k]\n",
    "  del state_dict[k]"
   ]
  },
  {
   "cell_type": "code",
   "execution_count": 13,
   "metadata": {
    "id": "VVjA83PPJYWl"
   },
   "outputs": [],
   "source": [
    "log = model.load_state_dict(state_dict, strict=False)\n",
    "assert log.missing_keys == ['fc.weight', 'fc.bias']"
   ]
  },
  {
   "cell_type": "code",
   "execution_count": 18,
   "metadata": {
    "colab": {
     "base_uri": "https://localhost:8080/",
     "height": 117,
     "referenced_widgets": [
      "149b9ce8fb68473a837a77431c12281a",
      "88cd3db2831e4c13a4a634709700d6b2",
      "a88c31d74f5c40a2b24bcff5a35d216c",
      "60c6150177694717a622936b830427b5",
      "dba019efadee4fdc8c799f309b9a7e70",
      "5901c2829a554c8ebbd5926610088041",
      "957362a11d174407979cf17012bf9208",
      "a4f82234388e4701a02a9f68a177193a"
     ]
    },
    "id": "_GC0a14uWRr6",
    "outputId": "4c2558db-921c-425e-f947-6cc746d8c749"
   },
   "outputs": [
    {
     "name": "stdout",
     "output_type": "stream",
     "text": [
      "Files already downloaded and verified\n",
      "Files already downloaded and verified\n",
      "Dataset: cifar10\n"
     ]
    }
   ],
   "source": [
    "if config.dataset_name == 'cifar10':\n",
    "  train_loader, test_loader = get_cifar10_data_loaders(download=True)\n",
    "elif config.dataset_name == 'stl10':\n",
    "  train_loader, test_loader = get_stl10_data_loaders(download=True)\n",
    "print(\"Dataset:\", config.dataset_name)"
   ]
  },
  {
   "cell_type": "code",
   "execution_count": 19,
   "metadata": {
    "id": "pYT_KsM0Mnnr"
   },
   "outputs": [],
   "source": [
    "# freeze all layers but the last fc\n",
    "for name, param in model.named_parameters():\n",
    "    if name not in ['fc.weight', 'fc.bias']:\n",
    "        param.requires_grad = False\n",
    "\n",
    "parameters = list(filter(lambda p: p.requires_grad, model.parameters()))\n",
    "assert len(parameters) == 2  # fc.weight, fc.bias"
   ]
  },
  {
   "cell_type": "code",
   "execution_count": 20,
   "metadata": {
    "id": "aPVh1S_eMRDU"
   },
   "outputs": [],
   "source": [
    "optimizer = torch.optim.Adam(model.parameters(), lr=3e-4, weight_decay=0.0008)\n",
    "criterion = torch.nn.CrossEntropyLoss().to(device)"
   ]
  },
  {
   "cell_type": "code",
   "execution_count": 21,
   "metadata": {
    "id": "edr6RhP2PdVq"
   },
   "outputs": [],
   "source": [
    "def accuracy(output, target, topk=(1,)):\n",
    "    \"\"\"Computes the accuracy over the k top predictions for the specified values of k\"\"\"\n",
    "    with torch.no_grad():\n",
    "        maxk = max(topk)\n",
    "        batch_size = target.size(0)\n",
    "\n",
    "        _, pred = output.topk(maxk, 1, True, True)\n",
    "        pred = pred.t()\n",
    "        correct = pred.eq(target.view(1, -1).expand_as(pred))\n",
    "\n",
    "        res = []\n",
    "        for k in topk:\n",
    "            correct_k = correct[:k].reshape(-1).float().sum(0, keepdim=True)\n",
    "            res.append(correct_k.mul_(100.0 / batch_size))\n",
    "        return res"
   ]
  },
  {
   "cell_type": "code",
   "execution_count": 22,
   "metadata": {
    "colab": {
     "base_uri": "https://localhost:8080/"
    },
    "id": "qOder0dAMI7X",
    "outputId": "5f723b91-5a5e-43eb-ca01-a9b5ae2f1346"
   },
   "outputs": [
    {
     "name": "stdout",
     "output_type": "stream",
     "text": [
      "Epoch 0\tTop1 Train accuracy 13.0\tTop1 Test accuracy: 13.70059871673584\tTop5 test acc: 59.769073486328125\n",
      "Epoch 1\tTop1 Train accuracy 13.0\tTop1 Test accuracy: 14.848345756530762\tTop5 test acc: 61.12419509887695\n",
      "Epoch 2\tTop1 Train accuracy 14.0\tTop1 Test accuracy: 15.774931907653809\tTop5 test acc: 61.978973388671875\n",
      "Epoch 3\tTop1 Train accuracy 17.0\tTop1 Test accuracy: 16.62109375\tTop5 test acc: 63.187618255615234\n",
      "Epoch 4\tTop1 Train accuracy 22.0\tTop1 Test accuracy: 17.431640625\tTop5 test acc: 64.11305236816406\n",
      "Epoch 5\tTop1 Train accuracy 23.0\tTop1 Test accuracy: 18.082490921020508\tTop5 test acc: 64.97013092041016\n",
      "Epoch 6\tTop1 Train accuracy 26.0\tTop1 Test accuracy: 18.774702072143555\tTop5 test acc: 65.81342315673828\n",
      "Epoch 7\tTop1 Train accuracy 29.0\tTop1 Test accuracy: 19.48414421081543\tTop5 test acc: 66.16383361816406\n",
      "Epoch 8\tTop1 Train accuracy 34.0\tTop1 Test accuracy: 20.097082138061523\tTop5 test acc: 66.63028717041016\n",
      "\n",
      "\n",
      "\n",
      "\n",
      "\n",
      "\n",
      "\n",
      "\n",
      "\n",
      "Epoch 9\tTop1 Train accuracy 37.0\tTop1 Test accuracy: 20.690488815307617\tTop5 test acc: 67.21163177490234\n",
      "\n",
      "\n",
      "\n",
      "\n",
      "\n",
      "\n",
      "\n",
      "\n",
      "\n",
      "Epoch 10\tTop1 Train accuracy 39.0\tTop1 Test accuracy: 21.20691680908203\tTop5 test acc: 67.53618621826172\n",
      "\n",
      "\n",
      "\n",
      "\n",
      "\n",
      "\n",
      "\n",
      "\n",
      "\n",
      "\n",
      "Epoch 11\tTop1 Train accuracy 38.0\tTop1 Test accuracy: 21.78538703918457\tTop5 test acc: 67.84868621826172\n",
      "\n",
      "\n",
      "\n",
      "\n",
      "\n",
      "\n",
      "\n",
      "\n",
      "\n",
      "\n",
      "Epoch 12\tTop1 Train accuracy 40.0\tTop1 Test accuracy: 22.19324493408203\tTop5 test acc: 68.21001434326172\n",
      "\n",
      "\n",
      "\n",
      "\n",
      "\n",
      "\n",
      "\n",
      "\n",
      "\n",
      "\n",
      "Epoch 13\tTop1 Train accuracy 41.0\tTop1 Test accuracy: 22.815946578979492\tTop5 test acc: 68.64832305908203\n",
      "\n",
      "\n",
      "\n",
      "\n",
      "\n",
      "\n",
      "\n",
      "\n",
      "\n",
      "\n",
      "\n",
      "Epoch 14\tTop1 Train accuracy 44.0\tTop1 Test accuracy: 23.16980743408203\tTop5 test acc: 69.14407348632812\n",
      "Epoch 15\tTop1 Train accuracy 47.0\tTop1 Test accuracy: 23.66785430908203\tTop5 test acc: 69.521484375\n",
      "Epoch 16\tTop1 Train accuracy 48.0\tTop1 Test accuracy: 24.12913703918457\tTop5 test acc: 69.90234375\n",
      "Epoch 17\tTop1 Train accuracy 50.0\tTop1 Test accuracy: 24.71507453918457\tTop5 test acc: 70.32112121582031\n",
      "Epoch 18\tTop1 Train accuracy 52.0\tTop1 Test accuracy: 25.387754440307617\tTop5 test acc: 70.81916809082031\n",
      "Epoch 19\tTop1 Train accuracy 56.0\tTop1 Test accuracy: 25.9041805267334\tTop5 test acc: 71.39189147949219\n",
      "Epoch 20\tTop1 Train accuracy 57.0\tTop1 Test accuracy: 26.40854835510254\tTop5 test acc: 72.04503631591797\n",
      "Epoch 21\tTop1 Train accuracy 58.0\tTop1 Test accuracy: 26.680835723876953\tTop5 test acc: 72.61661529541016\n",
      "Epoch 22\tTop1 Train accuracy 58.0\tTop1 Test accuracy: 27.012866973876953\tTop5 test acc: 73.30652618408203\n",
      "Epoch 23\tTop1 Train accuracy 58.0\tTop1 Test accuracy: 27.48908805847168\tTop5 test acc: 73.91199493408203\n",
      "Epoch 24\tTop1 Train accuracy 59.0\tTop1 Test accuracy: 27.90671157836914\tTop5 test acc: 74.3772964477539\n",
      "Epoch 25\tTop1 Train accuracy 60.0\tTop1 Test accuracy: 28.35593032836914\tTop5 test acc: 75.10857391357422\n",
      "Epoch 26\tTop1 Train accuracy 62.0\tTop1 Test accuracy: 28.73678970336914\tTop5 test acc: 75.50666809082031\n",
      "Epoch 27\tTop1 Train accuracy 63.0\tTop1 Test accuracy: 29.106733322143555\tTop5 test acc: 76.24655151367188\n",
      "Epoch 28\tTop1 Train accuracy 64.0\tTop1 Test accuracy: 29.5645694732666\tTop5 test acc: 76.89855194091797\n",
      "Epoch 29\tTop1 Train accuracy 65.0\tTop1 Test accuracy: 29.827091217041016\tTop5 test acc: 77.47013092041016\n",
      "Epoch 30\tTop1 Train accuracy 66.0\tTop1 Test accuracy: 30.128677368164062\tTop5 test acc: 78.01586151123047\n",
      "Epoch 31\tTop1 Train accuracy 66.0\tTop1 Test accuracy: 30.408432006835938\tTop5 test acc: 78.56905364990234\n",
      "Epoch 32\tTop1 Train accuracy 68.0\tTop1 Test accuracy: 30.720932006835938\tTop5 test acc: 79.01827239990234\n",
      "Epoch 33\tTop1 Train accuracy 68.0\tTop1 Test accuracy: 31.071348190307617\tTop5 test acc: 79.4651870727539\n",
      "Epoch 34\tTop1 Train accuracy 68.0\tTop1 Test accuracy: 31.4510555267334\tTop5 test acc: 79.92302703857422\n",
      "Epoch 35\tTop1 Train accuracy 68.0\tTop1 Test accuracy: 31.667051315307617\tTop5 test acc: 80.224609375\n",
      "Epoch 36\tTop1 Train accuracy 71.0\tTop1 Test accuracy: 31.791706085205078\tTop5 test acc: 80.673828125\n",
      "Epoch 37\tTop1 Train accuracy 72.0\tTop1 Test accuracy: 31.99448585510254\tTop5 test acc: 80.95588684082031\n",
      "Epoch 38\tTop1 Train accuracy 72.0\tTop1 Test accuracy: 32.255859375\tTop5 test acc: 81.3551254272461\n",
      "Epoch 39\tTop1 Train accuracy 75.0\tTop1 Test accuracy: 32.51838302612305\tTop5 test acc: 81.6480941772461\n",
      "Epoch 40\tTop1 Train accuracy 75.0\tTop1 Test accuracy: 32.790672302246094\tTop5 test acc: 81.90946960449219\n",
      "Epoch 41\tTop1 Train accuracy 75.0\tTop1 Test accuracy: 33.03251266479492\tTop5 test acc: 82.15245819091797\n",
      "Epoch 42\tTop1 Train accuracy 76.0\tTop1 Test accuracy: 33.18876266479492\tTop5 test acc: 82.52355194091797\n",
      "Epoch 43\tTop1 Train accuracy 77.0\tTop1 Test accuracy: 33.372013092041016\tTop5 test acc: 82.71886444091797\n",
      "Epoch 44\tTop1 Train accuracy 78.0\tTop1 Test accuracy: 33.479434967041016\tTop5 test acc: 83.00206756591797\n",
      "Epoch 45\tTop1 Train accuracy 79.0\tTop1 Test accuracy: 33.694278717041016\tTop5 test acc: 83.22438049316406\n",
      "Epoch 46\tTop1 Train accuracy 79.0\tTop1 Test accuracy: 33.801700592041016\tTop5 test acc: 83.41854095458984\n",
      "Epoch 47\tTop1 Train accuracy 79.0\tTop1 Test accuracy: 34.075138092041016\tTop5 test acc: 83.53458404541016\n",
      "Epoch 48\tTop1 Train accuracy 79.0\tTop1 Test accuracy: 34.34627914428711\tTop5 test acc: 83.72989654541016\n",
      "Epoch 49\tTop1 Train accuracy 79.0\tTop1 Test accuracy: 34.38534164428711\tTop5 test acc: 83.83731842041016\n",
      "Epoch 50\tTop1 Train accuracy 79.0\tTop1 Test accuracy: 34.60535430908203\tTop5 test acc: 84.00218963623047\n",
      "Epoch 51\tTop1 Train accuracy 80.0\tTop1 Test accuracy: 34.71162796020508\tTop5 test acc: 84.10961151123047\n",
      "Epoch 52\tTop1 Train accuracy 80.0\tTop1 Test accuracy: 34.89602279663086\tTop5 test acc: 84.21587371826172\n",
      "Epoch 53\tTop1 Train accuracy 81.0\tTop1 Test accuracy: 35.05227279663086\tTop5 test acc: 84.36235809326172\n",
      "Epoch 54\tTop1 Train accuracy 82.0\tTop1 Test accuracy: 35.16946029663086\tTop5 test acc: 84.56629180908203\n",
      "Epoch 55\tTop1 Train accuracy 82.0\tTop1 Test accuracy: 35.16946029663086\tTop5 test acc: 84.66394805908203\n",
      "Epoch 56\tTop1 Train accuracy 82.0\tTop1 Test accuracy: 35.23781967163086\tTop5 test acc: 84.70301055908203\n",
      "Epoch 57\tTop1 Train accuracy 82.0\tTop1 Test accuracy: 35.21828842163086\tTop5 test acc: 84.81043243408203\n",
      "Epoch 58\tTop1 Train accuracy 82.0\tTop1 Test accuracy: 35.38315963745117\tTop5 test acc: 84.89832305908203\n",
      "Epoch 59\tTop1 Train accuracy 82.0\tTop1 Test accuracy: 35.39406967163086\tTop5 test acc: 85.02527618408203\n",
      "Epoch 60\tTop1 Train accuracy 82.0\tTop1 Test accuracy: 35.48196029663086\tTop5 test acc: 85.03504180908203\n",
      "Epoch 61\tTop1 Train accuracy 83.0\tTop1 Test accuracy: 35.53078842163086\tTop5 test acc: 85.08386993408203\n",
      "Epoch 62\tTop1 Train accuracy 83.0\tTop1 Test accuracy: 35.66521072387695\tTop5 test acc: 85.13269805908203\n",
      "Epoch 63\tTop1 Train accuracy 83.0\tTop1 Test accuracy: 35.69680404663086\tTop5 test acc: 85.20220184326172\n",
      "Epoch 64\tTop1 Train accuracy 84.0\tTop1 Test accuracy: 35.78355026245117\tTop5 test acc: 85.33892059326172\n",
      "Epoch 65\tTop1 Train accuracy 84.0\tTop1 Test accuracy: 35.84099197387695\tTop5 test acc: 85.35845184326172\n",
      "Epoch 66\tTop1 Train accuracy 86.0\tTop1 Test accuracy: 35.96564865112305\tTop5 test acc: 85.36821746826172\n",
      "Epoch 67\tTop1 Train accuracy 87.0\tTop1 Test accuracy: 36.07307052612305\tTop5 test acc: 85.43657684326172\n",
      "Epoch 68\tTop1 Train accuracy 88.0\tTop1 Test accuracy: 36.150047302246094\tTop5 test acc: 85.48426055908203\n",
      "Epoch 69\tTop1 Train accuracy 88.0\tTop1 Test accuracy: 36.15119552612305\tTop5 test acc: 85.52332305908203\n",
      "Epoch 70\tTop1 Train accuracy 88.0\tTop1 Test accuracy: 36.21725845336914\tTop5 test acc: 85.57215118408203\n",
      "Epoch 71\tTop1 Train accuracy 88.0\tTop1 Test accuracy: 36.35282516479492\tTop5 test acc: 85.54285430908203\n",
      "Epoch 72\tTop1 Train accuracy 89.0\tTop1 Test accuracy: 36.316062927246094\tTop5 test acc: 85.54285430908203\n",
      "Epoch 73\tTop1 Train accuracy 91.0\tTop1 Test accuracy: 36.316062927246094\tTop5 test acc: 85.61121368408203\n",
      "Epoch 74\tTop1 Train accuracy 91.0\tTop1 Test accuracy: 36.35397720336914\tTop5 test acc: 85.67957305908203\n",
      "Epoch 75\tTop1 Train accuracy 91.0\tTop1 Test accuracy: 36.33444595336914\tTop5 test acc: 85.69910430908203\n",
      "Epoch 76\tTop1 Train accuracy 92.0\tTop1 Test accuracy: 36.47977828979492\tTop5 test acc: 85.75769805908203\n",
      "Epoch 77\tTop1 Train accuracy 92.0\tTop1 Test accuracy: 36.56766891479492\tTop5 test acc: 85.72840118408203\n"
     ]
    },
    {
     "name": "stdout",
     "output_type": "stream",
     "text": [
      "Epoch 78\tTop1 Train accuracy 92.0\tTop1 Test accuracy: 36.586055755615234\tTop5 test acc: 85.75769805908203\n",
      "Epoch 79\tTop1 Train accuracy 94.0\tTop1 Test accuracy: 36.604434967041016\tTop5 test acc: 85.80652618408203\n",
      "Epoch 80\tTop1 Train accuracy 94.0\tTop1 Test accuracy: 36.672794342041016\tTop5 test acc: 85.86511993408203\n",
      "Epoch 81\tTop1 Train accuracy 94.0\tTop1 Test accuracy: 36.722774505615234\tTop5 test acc: 85.86511993408203\n",
      "Epoch 82\tTop1 Train accuracy 94.0\tTop1 Test accuracy: 36.713008880615234\tTop5 test acc: 85.85535430908203\n",
      "Epoch 83\tTop1 Train accuracy 95.0\tTop1 Test accuracy: 36.761837005615234\tTop5 test acc: 85.87488555908203\n",
      "Epoch 84\tTop1 Train accuracy 96.0\tTop1 Test accuracy: 36.791133880615234\tTop5 test acc: 85.88465118408203\n",
      "Epoch 85\tTop1 Train accuracy 96.0\tTop1 Test accuracy: 36.810665130615234\tTop5 test acc: 85.90532684326172\n",
      "Epoch 86\tTop1 Train accuracy 96.0\tTop1 Test accuracy: 36.839962005615234\tTop5 test acc: 85.95531463623047\n",
      "Epoch 87\tTop1 Train accuracy 96.0\tTop1 Test accuracy: 36.898555755615234\tTop5 test acc: 85.96392059326172\n",
      "Epoch 88\tTop1 Train accuracy 96.0\tTop1 Test accuracy: 36.946231842041016\tTop5 test acc: 85.99321746826172\n",
      "Epoch 89\tTop1 Train accuracy 96.0\tTop1 Test accuracy: 36.955997467041016\tTop5 test acc: 86.07134246826172\n",
      "Epoch 90\tTop1 Train accuracy 96.0\tTop1 Test accuracy: 37.014591217041016\tTop5 test acc: 86.11156463623047\n",
      "Epoch 91\tTop1 Train accuracy 96.0\tTop1 Test accuracy: 37.014591217041016\tTop5 test acc: 86.10179901123047\n",
      "Epoch 92\tTop1 Train accuracy 96.0\tTop1 Test accuracy: 37.024356842041016\tTop5 test acc: 86.09203338623047\n",
      "Epoch 93\tTop1 Train accuracy 96.0\tTop1 Test accuracy: 37.005977630615234\tTop5 test acc: 86.12133026123047\n",
      "Epoch 94\tTop1 Train accuracy 96.0\tTop1 Test accuracy: 37.054805755615234\tTop5 test acc: 86.13970184326172\n",
      "Epoch 95\tTop1 Train accuracy 96.0\tTop1 Test accuracy: 37.025508880615234\tTop5 test acc: 86.16899871826172\n",
      "Epoch 96\tTop1 Train accuracy 96.0\tTop1 Test accuracy: 36.986446380615234\tTop5 test acc: 86.19829559326172\n",
      "Epoch 97\tTop1 Train accuracy 97.0\tTop1 Test accuracy: 36.976680755615234\tTop5 test acc: 86.21782684326172\n",
      "Epoch 98\tTop1 Train accuracy 97.0\tTop1 Test accuracy: 36.947383880615234\tTop5 test acc: 86.27642059326172\n",
      "Epoch 99\tTop1 Train accuracy 97.0\tTop1 Test accuracy: 36.908321380615234\tTop5 test acc: 86.29595184326172\n"
     ]
    }
   ],
   "source": [
    "epochs = 100\n",
    "for epoch in range(epochs):\n",
    "  top1_train_accuracy = 0\n",
    "  for counter, (x_batch, y_batch) in enumerate(train_loader):\n",
    "    x_batch = x_batch.to(device)\n",
    "    y_batch = y_batch.to(device)\n",
    "\n",
    "    logits = model(x_batch)\n",
    "    loss = criterion(logits, y_batch)\n",
    "    top1 = accuracy(logits, y_batch, topk=(1,))\n",
    "    top1_train_accuracy += top1[0]\n",
    "\n",
    "    optimizer.zero_grad()\n",
    "    loss.backward()\n",
    "    optimizer.step()\n",
    "\n",
    "  top1_train_accuracy /= (counter + 1)\n",
    "  top1_accuracy = 0\n",
    "  top5_accuracy = 0\n",
    "  for counter, (x_batch, y_batch) in enumerate(test_loader):\n",
    "    x_batch = x_batch.to(device)\n",
    "    y_batch = y_batch.to(device)\n",
    "\n",
    "    logits = model(x_batch)\n",
    "  \n",
    "    top1, top5 = accuracy(logits, y_batch, topk=(1,5))\n",
    "    top1_accuracy += top1[0]\n",
    "    top5_accuracy += top5[0]\n",
    "  \n",
    "  top1_accuracy /= (counter + 1)\n",
    "  top5_accuracy /= (counter + 1)\n",
    "  print(f\"Epoch {epoch}\\tTop1 Train accuracy {top1_train_accuracy.item()}\\tTop1 Test accuracy: {top1_accuracy.item()}\\tTop5 test acc: {top5_accuracy.item()}\")"
   ]
  }
 ],
 "metadata": {
  "accelerator": "GPU",
  "colab": {
   "include_colab_link": true,
   "name": "Copy of mini-batch-logistic-regression-evaluator.ipynb",
   "provenance": []
  },
  "kernelspec": {
   "display_name": "Python 3 (ipykernel)",
   "language": "python",
   "name": "python3"
  },
  "language_info": {
   "codemirror_mode": {
    "name": "ipython",
    "version": 3
   },
   "file_extension": ".py",
   "mimetype": "text/x-python",
   "name": "python",
   "nbconvert_exporter": "python",
   "pygments_lexer": "ipython3",
   "version": "3.7.6"
  },
  "widgets": {
   "application/vnd.jupyter.widget-state+json": {
    "149b9ce8fb68473a837a77431c12281a": {
     "model_module": "@jupyter-widgets/controls",
     "model_name": "HBoxModel",
     "state": {
      "_dom_classes": [],
      "_model_module": "@jupyter-widgets/controls",
      "_model_module_version": "1.5.0",
      "_model_name": "HBoxModel",
      "_view_count": null,
      "_view_module": "@jupyter-widgets/controls",
      "_view_module_version": "1.5.0",
      "_view_name": "HBoxView",
      "box_style": "",
      "children": [
       "IPY_MODEL_a88c31d74f5c40a2b24bcff5a35d216c",
       "IPY_MODEL_60c6150177694717a622936b830427b5"
      ],
      "layout": "IPY_MODEL_88cd3db2831e4c13a4a634709700d6b2"
     }
    },
    "5901c2829a554c8ebbd5926610088041": {
     "model_module": "@jupyter-widgets/base",
     "model_name": "LayoutModel",
     "state": {
      "_model_module": "@jupyter-widgets/base",
      "_model_module_version": "1.2.0",
      "_model_name": "LayoutModel",
      "_view_count": null,
      "_view_module": "@jupyter-widgets/base",
      "_view_module_version": "1.2.0",
      "_view_name": "LayoutView",
      "align_content": null,
      "align_items": null,
      "align_self": null,
      "border": null,
      "bottom": null,
      "display": null,
      "flex": null,
      "flex_flow": null,
      "grid_area": null,
      "grid_auto_columns": null,
      "grid_auto_flow": null,
      "grid_auto_rows": null,
      "grid_column": null,
      "grid_gap": null,
      "grid_row": null,
      "grid_template_areas": null,
      "grid_template_columns": null,
      "grid_template_rows": null,
      "height": null,
      "justify_content": null,
      "justify_items": null,
      "left": null,
      "margin": null,
      "max_height": null,
      "max_width": null,
      "min_height": null,
      "min_width": null,
      "object_fit": null,
      "object_position": null,
      "order": null,
      "overflow": null,
      "overflow_x": null,
      "overflow_y": null,
      "padding": null,
      "right": null,
      "top": null,
      "visibility": null,
      "width": null
     }
    },
    "60c6150177694717a622936b830427b5": {
     "model_module": "@jupyter-widgets/controls",
     "model_name": "HTMLModel",
     "state": {
      "_dom_classes": [],
      "_model_module": "@jupyter-widgets/controls",
      "_model_module_version": "1.5.0",
      "_model_name": "HTMLModel",
      "_view_count": null,
      "_view_module": "@jupyter-widgets/controls",
      "_view_module_version": "1.5.0",
      "_view_name": "HTMLView",
      "description": "",
      "description_tooltip": null,
      "layout": "IPY_MODEL_a4f82234388e4701a02a9f68a177193a",
      "placeholder": "​",
      "style": "IPY_MODEL_957362a11d174407979cf17012bf9208",
      "value": " 2640404480/? [00:51&lt;00:00, 32685718.58it/s]"
     }
    },
    "88cd3db2831e4c13a4a634709700d6b2": {
     "model_module": "@jupyter-widgets/base",
     "model_name": "LayoutModel",
     "state": {
      "_model_module": "@jupyter-widgets/base",
      "_model_module_version": "1.2.0",
      "_model_name": "LayoutModel",
      "_view_count": null,
      "_view_module": "@jupyter-widgets/base",
      "_view_module_version": "1.2.0",
      "_view_name": "LayoutView",
      "align_content": null,
      "align_items": null,
      "align_self": null,
      "border": null,
      "bottom": null,
      "display": null,
      "flex": null,
      "flex_flow": null,
      "grid_area": null,
      "grid_auto_columns": null,
      "grid_auto_flow": null,
      "grid_auto_rows": null,
      "grid_column": null,
      "grid_gap": null,
      "grid_row": null,
      "grid_template_areas": null,
      "grid_template_columns": null,
      "grid_template_rows": null,
      "height": null,
      "justify_content": null,
      "justify_items": null,
      "left": null,
      "margin": null,
      "max_height": null,
      "max_width": null,
      "min_height": null,
      "min_width": null,
      "object_fit": null,
      "object_position": null,
      "order": null,
      "overflow": null,
      "overflow_x": null,
      "overflow_y": null,
      "padding": null,
      "right": null,
      "top": null,
      "visibility": null,
      "width": null
     }
    },
    "957362a11d174407979cf17012bf9208": {
     "model_module": "@jupyter-widgets/controls",
     "model_name": "DescriptionStyleModel",
     "state": {
      "_model_module": "@jupyter-widgets/controls",
      "_model_module_version": "1.5.0",
      "_model_name": "DescriptionStyleModel",
      "_view_count": null,
      "_view_module": "@jupyter-widgets/base",
      "_view_module_version": "1.2.0",
      "_view_name": "StyleView",
      "description_width": ""
     }
    },
    "a4f82234388e4701a02a9f68a177193a": {
     "model_module": "@jupyter-widgets/base",
     "model_name": "LayoutModel",
     "state": {
      "_model_module": "@jupyter-widgets/base",
      "_model_module_version": "1.2.0",
      "_model_name": "LayoutModel",
      "_view_count": null,
      "_view_module": "@jupyter-widgets/base",
      "_view_module_version": "1.2.0",
      "_view_name": "LayoutView",
      "align_content": null,
      "align_items": null,
      "align_self": null,
      "border": null,
      "bottom": null,
      "display": null,
      "flex": null,
      "flex_flow": null,
      "grid_area": null,
      "grid_auto_columns": null,
      "grid_auto_flow": null,
      "grid_auto_rows": null,
      "grid_column": null,
      "grid_gap": null,
      "grid_row": null,
      "grid_template_areas": null,
      "grid_template_columns": null,
      "grid_template_rows": null,
      "height": null,
      "justify_content": null,
      "justify_items": null,
      "left": null,
      "margin": null,
      "max_height": null,
      "max_width": null,
      "min_height": null,
      "min_width": null,
      "object_fit": null,
      "object_position": null,
      "order": null,
      "overflow": null,
      "overflow_x": null,
      "overflow_y": null,
      "padding": null,
      "right": null,
      "top": null,
      "visibility": null,
      "width": null
     }
    },
    "a88c31d74f5c40a2b24bcff5a35d216c": {
     "model_module": "@jupyter-widgets/controls",
     "model_name": "FloatProgressModel",
     "state": {
      "_dom_classes": [],
      "_model_module": "@jupyter-widgets/controls",
      "_model_module_version": "1.5.0",
      "_model_name": "FloatProgressModel",
      "_view_count": null,
      "_view_module": "@jupyter-widgets/controls",
      "_view_module_version": "1.5.0",
      "_view_name": "ProgressView",
      "bar_style": "info",
      "description": "",
      "description_tooltip": null,
      "layout": "IPY_MODEL_5901c2829a554c8ebbd5926610088041",
      "max": 1,
      "min": 0,
      "orientation": "horizontal",
      "style": "IPY_MODEL_dba019efadee4fdc8c799f309b9a7e70",
      "value": 1
     }
    },
    "dba019efadee4fdc8c799f309b9a7e70": {
     "model_module": "@jupyter-widgets/controls",
     "model_name": "ProgressStyleModel",
     "state": {
      "_model_module": "@jupyter-widgets/controls",
      "_model_module_version": "1.5.0",
      "_model_name": "ProgressStyleModel",
      "_view_count": null,
      "_view_module": "@jupyter-widgets/base",
      "_view_module_version": "1.2.0",
      "_view_name": "StyleView",
      "bar_color": null,
      "description_width": "initial"
     }
    }
   }
  }
 },
 "nbformat": 4,
 "nbformat_minor": 1
}
